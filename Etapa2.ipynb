{
 "cells": [
  {
   "cell_type": "markdown",
   "id": "e0a3d89b-4006-4841-96c9-35c9358e4987",
   "metadata": {
    "jp-MarkdownHeadingCollapsed": true
   },
   "source": [
    "# Proyecto Final: Análisis de Big Data con Spark y HDFS\n",
    "## Visión general:\n",
    "Este proyecto está diseñado para ayudarte a adquirir experiencia práctica con Spark y HD\r\n",
    "Trabajarás con tu propio conjunto de datos y utilizarás Spark para analizar los datos, obte\r\n",
    "información y generar resultados en diferentes formatos de salida y fuentes. También util\r\n",
    "Spark Structured Streaming para realizar análisis en tiempo real de los datos utilizando\n",
    "## Entorno:\n",
    "Ejecutarás este proyecto en tu propia computadora personal utilizando un entorno con\r\n",
    "contenedores Docker que contienen Spark 3 y HDFS Py"
   ]
  },
  {
   "attachments": {},
   "cell_type": "markdown",
   "id": "ce90205e-a871-4c59-bc1b-eb2c8c8f629f",
   "metadata": {},
   "source": [
    "# 1. Proyecto: IT Salary Survey for EU region\n",
    "**Dataset:** https://www.kaggle.com/datasets/parulpandey/2020-it-salary-survey-for-eu-region\n",
    "<br/>\n",
    "<br/>\n",
    "<div style=\"text-align: center;\">\n",
    "    <!--<img src=\"images/img211.png\" width=\"300\" height=\"200\" alt=\"image\">-->\n",
    "    <img src=\"images/img212.png\" width=\"300\" height=\"200\" alt=\"image\">\n",
    "    <img src=\"images/img213.png\" width=\"300\" height=\"200\" alt=\"image\">\n",
    "</div>"
   ]
  },
  {
   "cell_type": "markdown",
   "id": "94e90f8d-7766-4a2f-8db2-5ceacf0f2b34",
   "metadata": {},
   "source": [
    "## 2.1 Objetivos general:\n",
    "Analizar las tendencias y dinámicas laborales en el sector tecnológico a lo largo del tiempo y en función de diversos factores demográficos, económicos y empresariales, con el fin de proporcionar una visión integral de los cambios en la utilización de tecnologías, estructuras salariales, y decisiones empresariales durante y después de la pandemia de COVID-19\n"
   ]
  },
  {
   "cell_type": "markdown",
   "id": "d212b260-7cb8-47cd-89d8-8cb0a7cfb07e",
   "metadata": {},
   "source": [
    "## 2.2 Objetivos Específicos del Proyecto\n",
    "\n",
    "### 2.2.1. Análisis de Lenguajes de Programación por Grupo Etario\n",
    "\n",
    "- **Objetivo:** Determinar los lenguajes de programación más utilizados por las siguientes franjas etarias:\n",
    "  - 18 a 30 años\n",
    "  - 31 a 40 años\n",
    "  - Mayores de 41 años\n",
    "\n",
    "### 2.2.2. Examinación de Estructuras Salariales en el Sector Tecnológico\n",
    "- **Objetivo:** Compilar un listado de salarios, ordenados de mayor a menor, especificando el puesto y la ciudad de trabajo.\n",
    "\n",
    "### 2.2.3. Identificación de Empresas con Despidos Durante la Pandemia de COVID-19\n",
    "- **Objetivo:** Listar las empresas que realizaron despidos durante la pandemia y analizar las diferencias salariales entre géneros durante este periodo.\n",
    "\n",
    "### 2.2.4. Investigación de Lenguajes de Programación Predominantes\n",
    "- **Objetivo:** Establecer cuáles son los lenguajes de programación más utilizados en la actualidad dentro del sector tecnológico.\n",
    "\n",
    "### 2.2.5. Estudio de Diferencias en Empleo y Salarios por Género y Experiencia\n",
    "- **Objetivo:** \n",
    "  - Comparar el número de trabajadores en niveles senior y junior.\n",
    "  - Analizar las diferencias salariales promedio entre hombres y mujeres en estos niveles.\n",
    "\n",
    "### 2.2.6. Comparación de Salarios Anuales de Desarrolladores de Python (2018 vs. 2020)\n",
    "- **Objetivo:** Analizar cómo han evolucionado los salarios anuales de los desarrolladores de Python desde 2018 hasta 2020.\n",
    "\n",
    "### 2.2.7. Evaluación de la Evolución de los Lenguajes de Programación Más Utilizados (2018-2020)\n",
    "- **Objetivo:** Identificar los cinco lenguajes de programación más populares en los años 2018, 2019 y 2020 y examinar las tendencias y cambios a lo largo de estos años.\n"
   ]
  },
  {
   "cell_type": "markdown",
   "id": "e2afcd9b-bf7c-440d-be0e-638567545aba",
   "metadata": {},
   "source": [
    "## 2. Etapa 2: Análisis de datos con PySpark Estructurado\r\n",
    "En esta etapa, utilizarás Spark DataFrames para realizar análisis de datos y obtener información.\r\n",
    "Utilizarás agregaciones y estadísticas de dataframe para responder preguntas sobre los datos.\r\n",
    "También puedes utilizar visualizaciones para mostrar tus resultados"
   ]
  },
  {
   "attachments": {},
   "cell_type": "markdown",
   "id": "37003c38-f728-455b-b7e3-d053f5ae65ed",
   "metadata": {},
   "source": [
    "\n",
    "<div style=\"text-align: center;\">\n",
    "    <img src=\"images/img221.png\" width=\"500\" height=\"200\" alt=\"image\">\n",
    "</div>"
   ]
  },
  {
   "cell_type": "markdown",
   "id": "11151758-f943-4bb1-a89d-e7a8dccda245",
   "metadata": {},
   "source": [
    "## 2.1 Código"
   ]
  },
  {
   "cell_type": "code",
   "execution_count": null,
   "id": "a4512330-add5-43c6-bbe9-9db5060990e3",
   "metadata": {},
   "outputs": [],
   "source": []
  }
 ],
 "metadata": {
  "kernelspec": {
   "display_name": "Python 3 (ipykernel)",
   "language": "python",
   "name": "python3"
  },
  "language_info": {
   "codemirror_mode": {
    "name": "ipython",
    "version": 3
   },
   "file_extension": ".py",
   "mimetype": "text/x-python",
   "name": "python",
   "nbconvert_exporter": "python",
   "pygments_lexer": "ipython3",
   "version": "3.11.8"
  }
 },
 "nbformat": 4,
 "nbformat_minor": 5
}
